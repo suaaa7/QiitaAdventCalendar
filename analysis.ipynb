{
 "cells": [
  {
   "cell_type": "code",
   "execution_count": 8,
   "metadata": {},
   "outputs": [],
   "source": [
    "import numpy as np\n",
    "import pandas as pd\n",
    "import matplotlib as mpl\n",
    "import matplotlib.pyplot as plt\n",
    "%matplotlib inline\n",
    "\n",
    "from queries.calendar_table import SELECT_CALENDAR_TABLE\n",
    "from cursor_execute import cursor_execute"
   ]
  },
  {
   "cell_type": "code",
   "execution_count": 2,
   "metadata": {},
   "outputs": [],
   "source": [
    "d = cursor_execute(SELECT_CALENDAR_TABLE)\n",
    "df = pd.DataFrame(d, \n",
    "                  columns=['id', 'year', 'url', 'title', 'category', 'author',\n",
    "                           'parts', 'likes', 'subsc', 'items', 'actual_items']\n",
    "                 )"
   ]
  },
  {
   "cell_type": "code",
   "execution_count": 3,
   "metadata": {},
   "outputs": [
    {
     "data": {
      "text/html": [
       "<div>\n",
       "<style scoped>\n",
       "    .dataframe tbody tr th:only-of-type {\n",
       "        vertical-align: middle;\n",
       "    }\n",
       "\n",
       "    .dataframe tbody tr th {\n",
       "        vertical-align: top;\n",
       "    }\n",
       "\n",
       "    .dataframe thead th {\n",
       "        text-align: right;\n",
       "    }\n",
       "</style>\n",
       "<table border=\"1\" class=\"dataframe\">\n",
       "  <thead>\n",
       "    <tr style=\"text-align: right;\">\n",
       "      <th></th>\n",
       "      <th>id</th>\n",
       "      <th>year</th>\n",
       "      <th>url</th>\n",
       "      <th>title</th>\n",
       "      <th>category</th>\n",
       "      <th>author</th>\n",
       "      <th>parts</th>\n",
       "      <th>likes</th>\n",
       "      <th>subsc</th>\n",
       "      <th>items</th>\n",
       "      <th>actual_items</th>\n",
       "    </tr>\n",
       "  </thead>\n",
       "  <tbody>\n",
       "    <tr>\n",
       "      <th>0</th>\n",
       "      <td>1</td>\n",
       "      <td>2015</td>\n",
       "      <td>https://qiita.com/advent-calendar/2015/comme_t...</td>\n",
       "      <td>title</td>\n",
       "      <td>To Be Decided</td>\n",
       "      <td>xxl</td>\n",
       "      <td>6</td>\n",
       "      <td>18</td>\n",
       "      <td>2</td>\n",
       "      <td>6</td>\n",
       "      <td>6</td>\n",
       "    </tr>\n",
       "    <tr>\n",
       "      <th>1</th>\n",
       "      <td>2</td>\n",
       "      <td>2015</td>\n",
       "      <td>https://qiita.com/advent-calendar/2015/elastic...</td>\n",
       "      <td>title</td>\n",
       "      <td>To Be Decided</td>\n",
       "      <td>JapornLady</td>\n",
       "      <td>1</td>\n",
       "      <td>0</td>\n",
       "      <td>8</td>\n",
       "      <td>3</td>\n",
       "      <td>0</td>\n",
       "    </tr>\n",
       "    <tr>\n",
       "      <th>2</th>\n",
       "      <td>3</td>\n",
       "      <td>2015</td>\n",
       "      <td>https://qiita.com/advent-calendar/2015/redis_p...</td>\n",
       "      <td>title</td>\n",
       "      <td>Services / Applications</td>\n",
       "      <td>JapornLady</td>\n",
       "      <td>2</td>\n",
       "      <td>0</td>\n",
       "      <td>5</td>\n",
       "      <td>2</td>\n",
       "      <td>0</td>\n",
       "    </tr>\n",
       "    <tr>\n",
       "      <th>3</th>\n",
       "      <td>4</td>\n",
       "      <td>2015</td>\n",
       "      <td>https://qiita.com/advent-calendar/2015/temona</td>\n",
       "      <td>title</td>\n",
       "      <td>Company</td>\n",
       "      <td>devopsCoordinator</td>\n",
       "      <td>4</td>\n",
       "      <td>22</td>\n",
       "      <td>1</td>\n",
       "      <td>6</td>\n",
       "      <td>4</td>\n",
       "    </tr>\n",
       "    <tr>\n",
       "      <th>4</th>\n",
       "      <td>5</td>\n",
       "      <td>2015</td>\n",
       "      <td>https://qiita.com/advent-calendar/2015/php-fiz...</td>\n",
       "      <td>title</td>\n",
       "      <td>To Be Decided</td>\n",
       "      <td>yohei_oyama</td>\n",
       "      <td>1</td>\n",
       "      <td>0</td>\n",
       "      <td>2</td>\n",
       "      <td>5</td>\n",
       "      <td>5</td>\n",
       "    </tr>\n",
       "  </tbody>\n",
       "</table>\n",
       "</div>"
      ],
      "text/plain": [
       "   id  year                                                url  title  \\\n",
       "0   1  2015  https://qiita.com/advent-calendar/2015/comme_t...  title   \n",
       "1   2  2015  https://qiita.com/advent-calendar/2015/elastic...  title   \n",
       "2   3  2015  https://qiita.com/advent-calendar/2015/redis_p...  title   \n",
       "3   4  2015      https://qiita.com/advent-calendar/2015/temona  title   \n",
       "4   5  2015  https://qiita.com/advent-calendar/2015/php-fiz...  title   \n",
       "\n",
       "                  category              author  parts  likes  subsc  items  \\\n",
       "0            To Be Decided                 xxl      6     18      2      6   \n",
       "1            To Be Decided          JapornLady      1      0      8      3   \n",
       "2  Services / Applications          JapornLady      2      0      5      2   \n",
       "3                  Company   devopsCoordinator      4     22      1      6   \n",
       "4            To Be Decided         yohei_oyama      1      0      2      5   \n",
       "\n",
       "   actual_items  \n",
       "0             6  \n",
       "1             0  \n",
       "2             0  \n",
       "3             4  \n",
       "4             5  "
      ]
     },
     "execution_count": 3,
     "metadata": {},
     "output_type": "execute_result"
    }
   ],
   "source": [
    "df.head(5)"
   ]
  },
  {
   "cell_type": "code",
   "execution_count": 11,
   "metadata": {},
   "outputs": [
    {
     "data": {
      "image/png": "[encoded data removed]",
      "text/plain": [
       "<Figure size 432x288 with 1 Axes>"
      ]
     },
     "metadata": {
      "needs_background": "light"
     },
     "output_type": "display_data"
    }
   ],
   "source": [
    "# 年ごとのカレンダー数\n",
    "\n",
    "filename = \"year.png\"\n",
    "plt.figure()\n",
    "df.groupby(\"year\").size().plot.bar(y=['size'])\n",
    "plt.savefig(\"png/\" + filename)"
   ]
  },
  {
   "cell_type": "code",
   "execution_count": null,
   "metadata": {},
   "outputs": [],
   "source": []
  }
 ],
 "metadata": {
  "kernelspec": {
   "display_name": "Python 3",
   "language": "python",
   "name": "python3"
  },
  "language_info": {
   "codemirror_mode": {
    "name": "ipython",
    "version": 3
   },
   "file_extension": ".py",
   "mimetype": "text/x-python",
   "name": "python",
   "nbconvert_exporter": "python",
   "pygments_lexer": "ipython3",
   "version": "3.6.1"
  }
 },
 "nbformat": 4,
 "nbformat_minor": 2
}
